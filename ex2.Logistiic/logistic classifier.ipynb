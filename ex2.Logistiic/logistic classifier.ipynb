{
 "cells": [
  {
   "cell_type": "markdown",
   "metadata": {},
   "source": [
    "Logistic Regression in Python"
   ]
  },
  {
   "cell_type": "code",
   "execution_count": 75,
   "metadata": {},
   "outputs": [],
   "source": [
    "import numpy as np\n",
    "import pandas as pd\n",
    "import matplotlib.pyplot as plt \n",
    "import warnings\n",
    "warnings.simplefilter('ignore', UserWarning)\n"
   ]
  },
  {
   "cell_type": "code",
   "execution_count": 76,
   "metadata": {},
   "outputs": [],
   "source": [
    "data=pd.read_csv(\"ex2data1.txt\",names=[\"exam1\",\"exam2\",\"result\"])"
   ]
  },
  {
   "cell_type": "code",
   "execution_count": 77,
   "metadata": {},
   "outputs": [
    {
     "data": {
      "text/html": [
       "<div>\n",
       "<style scoped>\n",
       "    .dataframe tbody tr th:only-of-type {\n",
       "        vertical-align: middle;\n",
       "    }\n",
       "\n",
       "    .dataframe tbody tr th {\n",
       "        vertical-align: top;\n",
       "    }\n",
       "\n",
       "    .dataframe thead th {\n",
       "        text-align: right;\n",
       "    }\n",
       "</style>\n",
       "<table border=\"1\" class=\"dataframe\">\n",
       "  <thead>\n",
       "    <tr style=\"text-align: right;\">\n",
       "      <th></th>\n",
       "      <th>exam1</th>\n",
       "      <th>exam2</th>\n",
       "      <th>result</th>\n",
       "    </tr>\n",
       "  </thead>\n",
       "  <tbody>\n",
       "    <tr>\n",
       "      <th>0</th>\n",
       "      <td>34.623660</td>\n",
       "      <td>78.024693</td>\n",
       "      <td>0</td>\n",
       "    </tr>\n",
       "    <tr>\n",
       "      <th>1</th>\n",
       "      <td>30.286711</td>\n",
       "      <td>43.894998</td>\n",
       "      <td>0</td>\n",
       "    </tr>\n",
       "    <tr>\n",
       "      <th>2</th>\n",
       "      <td>35.847409</td>\n",
       "      <td>72.902198</td>\n",
       "      <td>0</td>\n",
       "    </tr>\n",
       "    <tr>\n",
       "      <th>3</th>\n",
       "      <td>60.182599</td>\n",
       "      <td>86.308552</td>\n",
       "      <td>1</td>\n",
       "    </tr>\n",
       "    <tr>\n",
       "      <th>4</th>\n",
       "      <td>79.032736</td>\n",
       "      <td>75.344376</td>\n",
       "      <td>1</td>\n",
       "    </tr>\n",
       "  </tbody>\n",
       "</table>\n",
       "</div>"
      ],
      "text/plain": [
       "       exam1      exam2  result\n",
       "0  34.623660  78.024693       0\n",
       "1  30.286711  43.894998       0\n",
       "2  35.847409  72.902198       0\n",
       "3  60.182599  86.308552       1\n",
       "4  79.032736  75.344376       1"
      ]
     },
     "execution_count": 77,
     "metadata": {},
     "output_type": "execute_result"
    }
   ],
   "source": [
    "data.head()"
   ]
  },
  {
   "cell_type": "markdown",
   "metadata": {},
   "source": [
    "Result here is the do the candidate is admited (result=1)in university or not (result=0)"
   ]
  },
  {
   "cell_type": "markdown",
   "metadata": {},
   "source": [
    "lets plot the data and see how the data looks like"
   ]
  },
  {
   "cell_type": "code",
   "execution_count": 4,
   "metadata": {},
   "outputs": [],
   "source": [
    "# plot function t plot the data\n",
    "def plotData(X,y):\n",
    "    postive=X[np.where(y==1)]\n",
    "    negtive=X[np.where(y==0)]\n",
    "    fig,ax=plt.subplots()\n",
    "    ax.plot(postive[:,0],postive[:,1],\"k+\",negtive[:,0],negtive[:,1],\"ro\")\n",
    "    return (fig,ax)\n"
   ]
  },
  {
   "cell_type": "code",
   "execution_count": 5,
   "metadata": {},
   "outputs": [],
   "source": [
    "def sigmoid(z):\n",
    "    return 1/(1+np.e**(-z))"
   ]
  },
  {
   "cell_type": "code",
   "execution_count": 6,
   "metadata": {},
   "outputs": [],
   "source": [
    "def costFunction(theta,X,y):\n",
    "    m = len(y) \n",
    "    J =(np.sum(-y*np.log(sigmoid(np.dot(X,theta)))-(1-y)*(np.log(1-sigmoid(np.dot(X,theta)))))/m)\n",
    "    grad = (np.sum((sigmoid(np.dot(X,theta))-y)[:,None]*X,axis=0)/m)\n",
    "    return (J, grad)"
   ]
  },
  {
   "cell_type": "code",
   "execution_count": 7,
   "metadata": {},
   "outputs": [],
   "source": [
    "def predict(theta,X):\n",
    "    return np.where(np.dot(X,theta)>5.,1,0)"
   ]
  },
  {
   "cell_type": "code",
   "execution_count": 47,
   "metadata": {},
   "outputs": [],
   "source": [
    "def mapFeatureVector(X1,X2):\n",
    "    \"\"\"\n",
    "    Feature mapping function to polynomial features. Maps the two features\n",
    "    X1,X2 to quadratic features used in the regularization exercise. X1, X2\n",
    "    must be the same size.returns new feature array with interactions and quadratic terms\n",
    "    \"\"\"\n",
    "    \n",
    "    degree = 6\n",
    "    output_feature_vec = np.ones(len(X1))[:,None]\n",
    "\n",
    "    for i in range(1,7):\n",
    "        for j in range(i+1):\n",
    "            new_feature = np.array(X1**(i-j)*X2**j)[:,None]\n",
    "            output_feature_vec = np.hstack((output_feature_vec,new_feature))\n",
    "   \n",
    "    return output_feature_vec"
   ]
  },
  {
   "cell_type": "code",
   "execution_count": 48,
   "metadata": {},
   "outputs": [],
   "source": [
    "\n",
    "def costFunctionReg(theta,X,y,reg_param):\n",
    "    m = len(y) \n",
    "    J =((np.sum(-y*np.log(sigmoid(np.dot(X,theta)))-\n",
    "       (1-y)*(np.log(1-sigmoid(np.dot(X,theta))))))/m +\n",
    "       (reg_param/m)*np.sum(theta**2))\n",
    "\n",
    "    # Non-regularized \n",
    "    grad_0 = (np.sum((sigmoid(np.dot(X,theta))-y)[:,None]*X,axis=0)/m)\n",
    "    \n",
    "    # Regularized\n",
    "    grad_reg = grad_0 + (reg_param/m)*theta\n",
    "    # Replace gradient for theta_0 with non-regularized gradient\n",
    "    grad_reg[0] = grad_0[0] \n",
    "    \n",
    "    return J"
   ]
  },
  {
   "cell_type": "code",
   "execution_count": 78,
   "metadata": {},
   "outputs": [],
   "source": [
    "def plotDecisionBoundary(theta,X,y):\n",
    "    \"\"\"X is asssumed to be either:\n",
    "        1) Mx3 matrix where the first column is all ones for the intercept\n",
    "        2) MxN with N>3, where the first column is all ones\n",
    "    \"\"\"\n",
    "    fig, ax = plotData(X[:,1:],y)\n",
    "    \"\"\"\n",
    "    if len(X[0]<=3):\n",
    "        # Choose two endpoints and plot the line between them\n",
    "        plot_x = np.array([min(X[:,1])-2,max(X[:,2])+2])\n",
    "        ax.plot(plot_x,plot_y)\n",
    "        ax.legend(['Admitted','Fail','Pass'])\n",
    "        ax.set_xbound(30,100)\n",
    "        ax.set_ybound(30,100)\n",
    "    else:\n",
    "    \"\"\"\n",
    "\n",
    "    # Create grid space\n",
    "    u = np.linspace(-1,1.5,50)\n",
    "    v = np.linspace(-1,1.5,50)\n",
    "    z = np.zeros((len(u),len(v)))\n",
    "    \n",
    "    # Evaluate z = theta*x over values in the gridspace\n",
    "    for i in range(len(u)):\n",
    "        for j in range(len(v)):\n",
    "            z[i][j] = np.dot(mapFeatureVector(np.array([u[i]]),\n",
    "            np.array([v[j]])),theta)\n",
    "    \n",
    "    # Plot contour\n",
    "    ax.contour(u,v,z,levels=[0])\n",
    "\n",
    "    return (fig,ax)"
   ]
  },
  {
   "cell_type": "code",
   "execution_count": 11,
   "metadata": {},
   "outputs": [],
   "source": [
    "#plotting data\n",
    "X=np.asarray(data[[\"exam1\",\"exam2\"]])\n",
    "y=np.asarray(data[\"result\"])"
   ]
  },
  {
   "cell_type": "code",
   "execution_count": 12,
   "metadata": {},
   "outputs": [
    {
     "data": {
      "image/png": "[encoded data removed]",
      "text/plain": [
       "<Figure size 432x288 with 1 Axes>"
      ]
     },
     "metadata": {
      "needs_background": "light"
     },
     "output_type": "display_data"
    }
   ],
   "source": [
    "fig,ax=plotData(X,y)\n",
    "ax.legend([\"Admitted\",\"Not admitted\"])\n",
    "fig.show()"
   ]
  },
  {
   "cell_type": "code",
   "execution_count": 13,
   "metadata": {},
   "outputs": [],
   "source": [
    "X=np.hstack((np.ones_like(y)[:,None],X))\n"
   ]
  },
  {
   "cell_type": "code",
   "execution_count": 14,
   "metadata": {},
   "outputs": [],
   "source": [
    "initial_theta=np.zeros(3)\n",
    "cost,grad=costFunction(initial_theta,X,y)"
   ]
  },
  {
   "cell_type": "code",
   "execution_count": 15,
   "metadata": {},
   "outputs": [
    {
     "name": "stdout",
     "output_type": "stream",
     "text": [
      "Cost at initial theta:\n",
      " 0.6931471805599453\n",
      "Gradeint at intial theta: \n",
      " [ -0.1        -12.00921659 -11.26284221]\n"
     ]
    }
   ],
   "source": [
    "print(\"Cost at initial theta:\\n\",cost)\n",
    "print(\"Gradeint at intial theta: \\n\",grad)"
   ]
  },
  {
   "cell_type": "code",
   "execution_count": 32,
   "metadata": {},
   "outputs": [
    {
     "name": "stdout",
     "output_type": "stream",
     "text": [
      "Optimization terminated successfully.\n",
      "         Current function value: 0.203498\n",
      "         Iterations: 29\n",
      "         Function evaluations: 72\n",
      "         Gradient evaluations: 252\n",
      "         Hessian evaluations: 0\n"
     ]
    }
   ],
   "source": [
    "from scipy.optimize import minimize\n",
    "res=minimize(costFunction,initial_theta,\n",
    "            method=\"Newton-CG\",\n",
    "            args=(X,y),\n",
    "            jac=True,\n",
    "            options={\"maxinter\":400,\"disp\":True})\n",
    "theta=res.x"
   ]
  },
  {
   "cell_type": "code",
   "execution_count": 58,
   "metadata": {},
   "outputs": [
    {
     "name": "stdout",
     "output_type": "stream",
     "text": [
      "cost at theta by minimize:  0.2034977226181816\n",
      "theta:  [-25.14945158   0.20613752   0.20137457]\n"
     ]
    }
   ],
   "source": [
    "print(\"cost at theta by minimize: \",res.fun)\n",
    "print(\"theta: \",theta)"
   ]
  },
  {
   "cell_type": "code",
   "execution_count": 39,
   "metadata": {},
   "outputs": [
    {
     "name": "stdout",
     "output_type": "stream",
     "text": [
      "probability of acceptence:  0.3481270925444401\n"
     ]
    }
   ],
   "source": [
    "\n",
    "prob = sigmoid(np.dot([1,75,45],theta))\n",
    "print(\"probability of acceptence: \",prob)"
   ]
  },
  {
   "cell_type": "code",
   "execution_count": 69,
   "metadata": {},
   "outputs": [],
   "source": [
    "p = predict(theta, X)"
   ]
  },
  {
   "cell_type": "code",
   "execution_count": 70,
   "metadata": {},
   "outputs": [
    {
     "name": "stdout",
     "output_type": "stream",
     "text": [
      "Accuracy 69.0\n"
     ]
    }
   ],
   "source": [
    "print(\"Accuracy\",np.mean(p==y)*100)"
   ]
  },
  {
   "cell_type": "code",
   "execution_count": 74,
   "metadata": {},
   "outputs": [
    {
     "ename": "NameError",
     "evalue": "name 'probs' is not defined",
     "output_type": "error",
     "traceback": [
      "\u001b[0;31m---------------------------------------------------------------------------\u001b[0m",
      "\u001b[0;31mNameError\u001b[0m                                 Traceback (most recent call last)",
      "\u001b[0;32m<ipython-input-74-88e8c3a946e3>\u001b[0m in \u001b[0;36m<module>\u001b[0;34m()\u001b[0m\n\u001b[0;32m----> 1\u001b[0;31m \u001b[0mplotDecisionBoundary\u001b[0m\u001b[0;34m(\u001b[0m\u001b[0mtheta\u001b[0m\u001b[0;34m,\u001b[0m \u001b[0mX\u001b[0m\u001b[0;34m,\u001b[0m \u001b[0my\u001b[0m\u001b[0;34m)\u001b[0m\u001b[0;34m\u001b[0m\u001b[0m\n\u001b[0m",
      "\u001b[0;32m<ipython-input-73-12db9e89c302>\u001b[0m in \u001b[0;36mplotDecisionBoundary\u001b[0;34m(theta, X, y)\u001b[0m\n\u001b[1;32m     21\u001b[0m     \u001b[0mz\u001b[0m \u001b[0;34m=\u001b[0m \u001b[0mnp\u001b[0m\u001b[0;34m.\u001b[0m\u001b[0mzeros\u001b[0m\u001b[0;34m(\u001b[0m\u001b[0;34m(\u001b[0m\u001b[0mlen\u001b[0m\u001b[0;34m(\u001b[0m\u001b[0mu\u001b[0m\u001b[0;34m)\u001b[0m\u001b[0;34m,\u001b[0m\u001b[0mlen\u001b[0m\u001b[0;34m(\u001b[0m\u001b[0mv\u001b[0m\u001b[0;34m)\u001b[0m\u001b[0;34m)\u001b[0m\u001b[0;34m)\u001b[0m\u001b[0;34m\u001b[0m\u001b[0m\n\u001b[1;32m     22\u001b[0m \u001b[0;34m\u001b[0m\u001b[0m\n\u001b[0;32m---> 23\u001b[0;31m     \u001b[0max\u001b[0m\u001b[0;34m.\u001b[0m\u001b[0mcontour\u001b[0m\u001b[0;34m(\u001b[0m\u001b[0mxx\u001b[0m\u001b[0;34m,\u001b[0m \u001b[0myy\u001b[0m\u001b[0;34m,\u001b[0m \u001b[0mprobs\u001b[0m\u001b[0;34m,\u001b[0m \u001b[0mlevels\u001b[0m\u001b[0;34m=\u001b[0m\u001b[0;34m[\u001b[0m\u001b[0;36m.5\u001b[0m\u001b[0;34m]\u001b[0m\u001b[0;34m,\u001b[0m \u001b[0mcmap\u001b[0m\u001b[0;34m=\u001b[0m\u001b[0;34m\"Greys\"\u001b[0m\u001b[0;34m,\u001b[0m \u001b[0mvmin\u001b[0m\u001b[0;34m=\u001b[0m\u001b[0;36m0\u001b[0m\u001b[0;34m,\u001b[0m \u001b[0mvmax\u001b[0m\u001b[0;34m=\u001b[0m\u001b[0;36m.6\u001b[0m\u001b[0;34m)\u001b[0m\u001b[0;34m\u001b[0m\u001b[0m\n\u001b[0m\u001b[1;32m     24\u001b[0m \u001b[0;34m\u001b[0m\u001b[0m\n\u001b[1;32m     25\u001b[0m     ax.scatter(X[100:,0], X[100:, 1], c=y[100:], s=50,\n",
      "\u001b[0;31mNameError\u001b[0m: name 'probs' is not defined"
     ]
    },
    {
     "data": {
      "image/png": "[encoded data removed]",
      "text/plain": [
       "<Figure size 432x288 with 1 Axes>"
      ]
     },
     "metadata": {
      "needs_background": "light"
     },
     "output_type": "display_data"
    }
   ],
   "source": [
    "plotDecisionBoundary(theta, X, y)"
   ]
  },
  {
   "cell_type": "code",
   "execution_count": null,
   "metadata": {},
   "outputs": [],
   "source": []
  }
 ],
 "metadata": {
  "kernelspec": {
   "display_name": "Python 3",
   "language": "python",
   "name": "python3"
  },
  "language_info": {
   "codemirror_mode": {
    "name": "ipython",
    "version": 3
   },
   "file_extension": ".py",
   "mimetype": "text/x-python",
   "name": "python",
   "nbconvert_exporter": "python",
   "pygments_lexer": "ipython3",
   "version": "3.7.0"
  }
 },
 "nbformat": 4,
 "nbformat_minor": 2
}
